{
 "cells": [
  {
   "cell_type": "code",
   "execution_count": 4,
   "id": "956ab09d",
   "metadata": {},
   "outputs": [
    {
     "name": "stdout",
     "output_type": "stream",
     "text": [
      "Random Forest Implementation\n",
      "\n",
      "\n"
     ]
    },
    {
     "name": "stderr",
     "output_type": "stream",
     "text": [
      "Setting default log level to \"WARN\".\n",
      "To adjust logging level use sc.setLogLevel(newLevel). For SparkR, use setLogLevel(newLevel).\n",
      "23/11/30 09:16:21 WARN NativeCodeLoader: Unable to load native-hadoop library for your platform... using builtin-java classes where applicable\n"
     ]
    },
    {
     "name": "stdout",
     "output_type": "stream",
     "text": [
      "Test Accuracy = 0.962366\n"
     ]
    },
    {
     "name": "stderr",
     "output_type": "stream",
     "text": [
      "23/11/30 09:16:35 WARN GarbageCollectionMetrics: To enable non-built-in garbage collector(s) List(G1 Concurrent GC), users should configure it(them) to spark.eventLog.gcMetrics.youngGenerationGarbageCollectors or spark.eventLog.gcMetrics.oldGenerationGarbageCollectors\n"
     ]
    }
   ],
   "source": [
    "from pyspark.sql import SparkSession\n",
    "from pyspark.ml import Pipeline\n",
    "from pyspark.ml.classification import RandomForestClassifier\n",
    "from pyspark.ml.feature import StringIndexer, VectorAssembler\n",
    "from pyspark.ml.evaluation import MulticlassClassificationEvaluator\n",
    "\n",
    "print(\"Random Forest Implementation\\n\\n\")\n",
    "\n",
    "spark = SparkSession.builder.appName(\n",
    "    \"CancerDiagnosisRandomForest\").getOrCreate()\n",
    "\n",
    "# Loading Dataset\n",
    "data = spark.read.csv('./project3_data.csv', header=True, inferSchema=True)\n",
    "\n",
    "# -------------- Preprocessing --------------\n",
    "# Convert categorical labels to numbers\n",
    "labelIndexer = StringIndexer(\n",
    "    inputCol=\"diagnosis\", outputCol=\"indexeddiagnosis\").fit(data)\n",
    "\n",
    "# Assemble feature vectors (assuming all other columns are features)\n",
    "featureCols = data.columns\n",
    "featureCols.remove('diagnosis')\n",
    "assembler = VectorAssembler(inputCols=featureCols, outputCol=\"features\")\n",
    "\n",
    "# Split the data into training and test sets\n",
    "(trainData, testData) = data.randomSplit([0.7, 0.3])\n",
    "\n",
    "# -------------- Training the Random Forest Model --------------\n",
    "# Define the Random Forest model\n",
    "rf = RandomForestClassifier(\n",
    "    labelCol=\"indexeddiagnosis\", featuresCol=\"features\")\n",
    "\n",
    "# Chain indexers and forest in a Pipeline\n",
    "pipeline = Pipeline(stages=[labelIndexer, assembler, rf])\n",
    "\n",
    "# Train model\n",
    "model = pipeline.fit(trainData)\n",
    "\n",
    "# -------------- Make predictions --------------\n",
    "predictions = model.transform(testData)\n",
    "\n",
    "# Select prediction, true label, and compute test error\n",
    "evaluator = MulticlassClassificationEvaluator(\n",
    "    labelCol=\"indexeddiagnosis\", predictionCol=\"prediction\", metricName=\"accuracy\")\n",
    "accuracy = evaluator.evaluate(predictions)\n",
    "\n",
    "\n",
    "# -------------- Print Results --------------\n",
    "print(\"Test Accuracy = %g\" % (accuracy))\n"
   ]
  }
 ],
 "metadata": {
  "kernelspec": {
   "display_name": "Python 3 (ipykernel)",
   "language": "python",
   "name": "python3"
  },
  "language_info": {
   "codemirror_mode": {
    "name": "ipython",
    "version": 3
   },
   "file_extension": ".py",
   "mimetype": "text/x-python",
   "name": "python",
   "nbconvert_exporter": "python",
   "pygments_lexer": "ipython3",
   "version": "3.10.10"
  }
 },
 "nbformat": 4,
 "nbformat_minor": 5
}
